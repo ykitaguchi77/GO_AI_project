{
  "cells": [
    {
      "cell_type": "markdown",
      "metadata": {
        "id": "view-in-github",
        "colab_type": "text"
      },
      "source": [
        "<a href=\"https://colab.research.google.com/github/ykitaguchi77/GO_AI_project/blob/main/Preprocess_images_for_DreamBooth.ipynb\" target=\"_parent\"><img src=\"https://colab.research.google.com/assets/colab-badge.svg\" alt=\"Open In Colab\"/></a>"
      ]
    },
    {
      "cell_type": "markdown",
      "source": [
        "#**オリンピアデータセットの抽出**"
      ],
      "metadata": {
        "id": "ncYz-f67OllO"
      }
    },
    {
      "cell_type": "code",
      "source": [
        "from google.colab import drive\n",
        "drive.mount('/content/drive')"
      ],
      "metadata": {
        "colab": {
          "base_uri": "https://localhost:8080/"
        },
        "id": "sTsqHP87Opyd",
        "outputId": "cdaa9ecd-1def-4871-c734-a352019dc439"
      },
      "execution_count": 1,
      "outputs": [
        {
          "output_type": "stream",
          "name": "stdout",
          "text": [
            "Mounted at /content/drive\n"
          ]
        }
      ]
    },
    {
      "cell_type": "code",
      "source": [
        "import os\n",
        "import shutil\n",
        "import glob\n",
        "\n",
        "full_dataset_path = \"/content/drive/MyDrive/Deep_learning/Olympia_dataset/dataset\" #編集未の画像を格納されているフォルダ\n",
        "reference_path = \"/content/drive/MyDrive/Deep_learning/Olympia_dataset/treated_500px\" #治療された患者のIDが格納されているフォルダ\n",
        "\n",
        "# reference_path内のファイルのベース名を取得\n",
        "reference_files = [os.path.basename(file) for file in glob.glob(os.path.join(reference_path, \"*\"))]\n",
        "\n",
        "# full_dataset_path内のファイルと比較して一致するファイルのパスを取得\n",
        "matching_files = [file for file in glob.glob(os.path.join(full_dataset_path, \"*\")) if os.path.basename(file) in reference_files]\n",
        "\n",
        "# 最初の5つのファイルパスを表示\n",
        "for file_path in matching_files[:5]:\n",
        "    print(file_path)\n"
      ],
      "metadata": {
        "colab": {
          "base_uri": "https://localhost:8080/"
        },
        "id": "yNgZKLfNOySq",
        "outputId": "b68ef1cc-c7ea-4823-a465-63f94f16b2c3"
      },
      "execution_count": 6,
      "outputs": [
        {
          "output_type": "stream",
          "name": "stdout",
          "text": [
            "/content/drive/MyDrive/Deep_learning/Olympia_dataset/dataset/19.JPG\n",
            "/content/drive/MyDrive/Deep_learning/Olympia_dataset/dataset/28.JPG\n",
            "/content/drive/MyDrive/Deep_learning/Olympia_dataset/dataset/30.JPG\n",
            "/content/drive/MyDrive/Deep_learning/Olympia_dataset/dataset/35.JPG\n",
            "/content/drive/MyDrive/Deep_learning/Olympia_dataset/dataset/36.JPG\n"
          ]
        }
      ]
    },
    {
      "cell_type": "code",
      "source": [
        "#img2square\n",
        "import os\n",
        "import shutil\n",
        "import glob\n",
        "import numpy as np\n",
        "import matplotlib.pyplot as plt\n",
        "import time\n",
        "import pandas as pd\n",
        "from PIL import Image\n",
        "\n",
        "def convert(matching_files, out_path):\n",
        "    start = time.time()\n",
        "\n",
        "    for i in matching_files:\n",
        "          img = Image.open(i)\n",
        "          # \"olympia_\"をファイル名の先頭に追加\n",
        "          new_filename = \"olympia_\" + os.path.basename(i)\n",
        "          img_new = expand2square(img, (0, 0, 0)).resize((768, 768))\n",
        "          img_new.save(os.path.join(out_path, new_filename))\n",
        "          print(os.path.join(out_path, new_filename))\n",
        "\n",
        "    print('Process done!!')\n",
        "    elapsed_time = time.time() - start\n",
        "    print (\"elapsed_time:{0}\".format(elapsed_time) + \"[sec]\")\n",
        "\n",
        "def expand2square(pil_img, background_color):\n",
        "    width, height = pil_img.size\n",
        "    if width == height:\n",
        "        return pil_img\n",
        "    elif width > height:\n",
        "        result = Image.new(pil_img.mode, (width, width), background_color)\n",
        "        result.paste(pil_img, (0, (width-height)//2))\n",
        "        return result\n",
        "    else:\n",
        "        result = Image.new(pil_img.mode, (height, height), background_color)\n",
        "        result.paste(pil_img, ((height - width) // 2, 0))\n",
        "        return result\n"
      ],
      "metadata": {
        "id": "USErxkpIR7Kj"
      },
      "execution_count": 15,
      "outputs": []
    },
    {
      "cell_type": "code",
      "source": [
        "#画像出力\n",
        "out_path = '/content/drive/MyDrive/Deep_learning/DreamBooth/GravCont768px/grav_extended'\n",
        "if not os.path.exists(out_path):\n",
        "    os.makedirs(out_path)\n",
        "\n",
        "convert(matching_files, out_path)"
      ],
      "metadata": {
        "id": "Dalc-EoJWhCx"
      },
      "execution_count": null,
      "outputs": []
    },
    {
      "cell_type": "code",
      "source": [],
      "metadata": {
        "id": "fFK_y-k00kMO"
      },
      "execution_count": null,
      "outputs": []
    },
    {
      "cell_type": "code",
      "source": [],
      "metadata": {
        "id": "Vt1q6qw50pH7"
      },
      "execution_count": null,
      "outputs": []
    },
    {
      "cell_type": "markdown",
      "source": [
        "#**Handai Super extend datasetからの抽出**"
      ],
      "metadata": {
        "id": "eo03qCS40pUt"
      }
    },
    {
      "cell_type": "code",
      "source": [
        "grav_dir = \"/content/drive/MyDrive/Deep_learning/GO_extended_dataset/super_extend_dataset_for_YOLO/train_val/grav\"\n",
        "cont_dir = \"/content/drive/MyDrive/Deep_learning/GO_extended_dataset/super_extend_dataset_for_YOLO/train_val/cont\"\n",
        "\n",
        "def count_files(directory):\n",
        "    file_count = 0\n",
        "    for _, _, files in os.walk(directory):\n",
        "        file_count += len(files)\n",
        "\n",
        "    return file_count\n",
        "\n",
        "grav_file_count = count_files(grav_dir)\n",
        "cont_file_count = count_files(cont_dir)\n",
        "\n",
        "print(f\"Number of files in '{grav_dir}': {grav_file_count}\")\n",
        "print(f\"Number of files in '{cont_dir}': {cont_file_count}\")"
      ],
      "metadata": {
        "colab": {
          "base_uri": "https://localhost:8080/"
        },
        "id": "B8fqSVx30vEh",
        "outputId": "369e8d2c-76c6-4549-b8e0-7fdbc043a7ba"
      },
      "execution_count": 18,
      "outputs": [
        {
          "output_type": "stream",
          "name": "stdout",
          "text": [
            "Number of files in '/content/drive/MyDrive/Deep_learning/GO_extended_dataset/super_extend_dataset_for_YOLO/train_val/grav': 2340\n",
            "Number of files in '/content/drive/MyDrive/Deep_learning/GO_extended_dataset/super_extend_dataset_for_YOLO/train_val/cont': 1955\n"
          ]
        }
      ]
    },
    {
      "cell_type": "code",
      "source": [
        "def convert(in_path, out_path):\n",
        "    #処理時間の計測\n",
        "    start = time.time()\n",
        "\n",
        "    l=0\n",
        "    processing_file = showInfo(in_path)\n",
        "    for i in processing_file:\n",
        "          img = Image.open(in_path + '/' + i)\n",
        "          img_new = expand2square(img, (0, 0, 0)).resize((768, 768))\n",
        "          img_new.save(out_path +'/'+ i)\n",
        "          print(out_path +'/'+ i)\n",
        "\n",
        "          #切り取った画像を表示\n",
        "          #plt.imshow(np.asarray(img_new))\n",
        "          #plt.show()\n",
        "\n",
        "    print('Process done!!')\n",
        "    elapsed_time = time.time() - start\n",
        "    print (\"elapsed_time:{0}\".format(elapsed_time) + \"[sec]\")\n",
        "\n",
        "def expand2square(pil_img, background_color):\n",
        "    width, height = pil_img.size\n",
        "    if width == height:\n",
        "        return pil_img\n",
        "    elif width > height:\n",
        "        result = Image.new(pil_img.mode, (width, width), background_color)\n",
        "        result.paste(pil_img, (0, (width-height)//2))\n",
        "        return result\n",
        "    else:\n",
        "        result = Image.new(pil_img.mode, (height, height), background_color)\n",
        "        result.paste(pil_img, (0, (height - width) // 2))\n",
        "        return result\n",
        "\n",
        "def showInfo(in_path):\n",
        "    #処理するDirectoryの設定\n",
        "    file = os.listdir(in_path)\n",
        "    print(len(file))\n",
        "\n",
        "    #ここにフォルダ番号を記載する (ex. [0:999])\n",
        "    processing_file = file[0:]\n",
        "    print(processing_file)\n",
        "    len(processing_file)\n",
        "    return processing_file"
      ],
      "metadata": {
        "id": "hu-4AixR1hrz"
      },
      "execution_count": null,
      "outputs": []
    },
    {
      "cell_type": "code",
      "source": [
        "#元画像フォルダ\n",
        "in_path = grav_dir\n",
        "\n",
        "#保存先フォルダ\n",
        "out_path = \"/content/drive/MyDrive/Deep_learning/DreamBooth/GravCont768px/grav_extended\"\n",
        "if not os.path.exists(out_path):\n",
        "    os.makedirs(out_path)\n",
        "\n",
        "#showInfo(in_path)\n",
        "convert(in_path, out_path)\n",
        "\n",
        "#元画像フォルダ\n",
        "in_path = cont_dir\n",
        "\n",
        "#保存先フォルダ\n",
        "out_path = \"/content/drive/MyDrive/Deep_learning/DreamBooth/GravCont768px/cont_extended\"\n",
        "if not os.path.exists(out_path):\n",
        "    os.makedirs(out_path)\n",
        "\n",
        "#showInfo(in_path)\n",
        "convert(in_path, out_path)"
      ],
      "metadata": {
        "id": "ObsbmyUf1p-R"
      },
      "execution_count": null,
      "outputs": []
    }
  ],
  "metadata": {
    "kernelspec": {
      "display_name": "Python 3.9.11 64-bit ('3.9.11')",
      "language": "python",
      "name": "python3"
    },
    "language_info": {
      "codemirror_mode": {
        "name": "ipython",
        "version": 3
      },
      "file_extension": ".py",
      "mimetype": "text/x-python",
      "name": "python",
      "nbconvert_exporter": "python",
      "pygments_lexer": "ipython3",
      "version": "3.9.11"
    },
    "orig_nbformat": 4,
    "vscode": {
      "interpreter": {
        "hash": "4c54f5a2397fd64f626d092de7078fa2077698fcad5e5718d5dd580f486c5028"
      }
    },
    "colab": {
      "provenance": [],
      "include_colab_link": true
    }
  },
  "nbformat": 4,
  "nbformat_minor": 0
}