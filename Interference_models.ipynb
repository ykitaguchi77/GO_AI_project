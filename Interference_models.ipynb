{
  "nbformat": 4,
  "nbformat_minor": 0,
  "metadata": {
    "colab": {
      "provenance": [],
      "authorship_tag": "ABX9TyNKUiJrvmB64SP2ckMGt4fh",
      "include_colab_link": true
    },
    "kernelspec": {
      "name": "python3",
      "display_name": "Python 3"
    },
    "language_info": {
      "name": "python"
    },
    "accelerator": "GPU"
  },
  "cells": [
    {
      "cell_type": "markdown",
      "metadata": {
        "id": "view-in-github",
        "colab_type": "text"
      },
      "source": [
        "<a href=\"https://colab.research.google.com/github/ykitaguchi77/GO_AI_project/blob/main/Interference_models.ipynb\" target=\"_parent\"><img src=\"https://colab.research.google.com/assets/colab-badge.svg\" alt=\"Open In Colab\"/></a>"
      ]
    },
    {
      "cell_type": "markdown",
      "source": [
        "#**Interference using pretrained models**"
      ],
      "metadata": {
        "id": "7bnfu3qWA2lX"
      }
    },
    {
      "cell_type": "code",
      "execution_count": 1,
      "metadata": {
        "colab": {
          "base_uri": "https://localhost:8080/"
        },
        "id": "TF6RLIRqARlg",
        "outputId": "c141bb4a-3e5c-4ba2-fb54-5f13787d4d73"
      },
      "outputs": [
        {
          "output_type": "stream",
          "name": "stdout",
          "text": [
            "Setup complete. Using torch 1.12.1+cu113 _CudaDeviceProperties(name='Tesla T4', major=7, minor=5, total_memory=15109MB, multi_processor_count=40)\n",
            "Mounted at /content/drive\n"
          ]
        }
      ],
      "source": [
        "import torch\n",
        "from IPython.display import Image, clear_output\n",
        "import os\n",
        "import shutil\n",
        "\n",
        "clear_output()\n",
        "print('Setup complete. Using torch %s %s' % (torch.__version__, torch.cuda.get_device_properties(0) if torch.cuda.is_available() else 'CPU'))\n",
        "device = torch.device(\"cuda:0\" if torch.cuda.is_available() else \"cpu\")\n",
        "\n",
        "#GDriveをマウント\n",
        "from google.colab import drive\n",
        "drive.mount('/content/drive')"
      ]
    },
    {
      "cell_type": "code",
      "source": [
        "image_folder_path = \"/content/drive/MyDrive/Deep_learning/GO_extended_dataset/GO_newPatient_250px\"\n",
        "\n",
        "model_path = \"/content/drive/MyDrive/Deep_learning/666mai_dataset/5-fold_20221019/Models/moblenetv3_large_100.pth\""
      ],
      "metadata": {
        "id": "laxJknZhCVBG"
      },
      "execution_count": 2,
      "outputs": []
    },
    {
      "cell_type": "code",
      "source": [
        "# specify the image paths\n",
        "image_list = [image_folder_path +\"/スライド\"+str(i)+\".jpeg\" for i in range(len(os.listdir(image_folder_path)))]\n",
        "image_list"
      ],
      "metadata": {
        "id": "y4-J8tuNA8RZ",
        "outputId": "4e69fb13-5264-4b24-95e7-f191c6e0709d",
        "colab": {
          "base_uri": "https://localhost:8080/"
        }
      },
      "execution_count": 3,
      "outputs": [
        {
          "output_type": "execute_result",
          "data": {
            "text/plain": [
              "['/content/drive/MyDrive/Deep_learning/GO_extended_dataset/GO_newPatient_250px/スライド0.jpeg',\n",
              " '/content/drive/MyDrive/Deep_learning/GO_extended_dataset/GO_newPatient_250px/スライド1.jpeg',\n",
              " '/content/drive/MyDrive/Deep_learning/GO_extended_dataset/GO_newPatient_250px/スライド2.jpeg',\n",
              " '/content/drive/MyDrive/Deep_learning/GO_extended_dataset/GO_newPatient_250px/スライド3.jpeg',\n",
              " '/content/drive/MyDrive/Deep_learning/GO_extended_dataset/GO_newPatient_250px/スライド4.jpeg',\n",
              " '/content/drive/MyDrive/Deep_learning/GO_extended_dataset/GO_newPatient_250px/スライド5.jpeg',\n",
              " '/content/drive/MyDrive/Deep_learning/GO_extended_dataset/GO_newPatient_250px/スライド6.jpeg',\n",
              " '/content/drive/MyDrive/Deep_learning/GO_extended_dataset/GO_newPatient_250px/スライド7.jpeg',\n",
              " '/content/drive/MyDrive/Deep_learning/GO_extended_dataset/GO_newPatient_250px/スライド8.jpeg',\n",
              " '/content/drive/MyDrive/Deep_learning/GO_extended_dataset/GO_newPatient_250px/スライド9.jpeg',\n",
              " '/content/drive/MyDrive/Deep_learning/GO_extended_dataset/GO_newPatient_250px/スライド10.jpeg',\n",
              " '/content/drive/MyDrive/Deep_learning/GO_extended_dataset/GO_newPatient_250px/スライド11.jpeg',\n",
              " '/content/drive/MyDrive/Deep_learning/GO_extended_dataset/GO_newPatient_250px/スライド12.jpeg',\n",
              " '/content/drive/MyDrive/Deep_learning/GO_extended_dataset/GO_newPatient_250px/スライド13.jpeg',\n",
              " '/content/drive/MyDrive/Deep_learning/GO_extended_dataset/GO_newPatient_250px/スライド14.jpeg',\n",
              " '/content/drive/MyDrive/Deep_learning/GO_extended_dataset/GO_newPatient_250px/スライド15.jpeg',\n",
              " '/content/drive/MyDrive/Deep_learning/GO_extended_dataset/GO_newPatient_250px/スライド16.jpeg',\n",
              " '/content/drive/MyDrive/Deep_learning/GO_extended_dataset/GO_newPatient_250px/スライド17.jpeg',\n",
              " '/content/drive/MyDrive/Deep_learning/GO_extended_dataset/GO_newPatient_250px/スライド18.jpeg',\n",
              " '/content/drive/MyDrive/Deep_learning/GO_extended_dataset/GO_newPatient_250px/スライド19.jpeg',\n",
              " '/content/drive/MyDrive/Deep_learning/GO_extended_dataset/GO_newPatient_250px/スライド20.jpeg',\n",
              " '/content/drive/MyDrive/Deep_learning/GO_extended_dataset/GO_newPatient_250px/スライド21.jpeg',\n",
              " '/content/drive/MyDrive/Deep_learning/GO_extended_dataset/GO_newPatient_250px/スライド22.jpeg',\n",
              " '/content/drive/MyDrive/Deep_learning/GO_extended_dataset/GO_newPatient_250px/スライド23.jpeg',\n",
              " '/content/drive/MyDrive/Deep_learning/GO_extended_dataset/GO_newPatient_250px/スライド24.jpeg',\n",
              " '/content/drive/MyDrive/Deep_learning/GO_extended_dataset/GO_newPatient_250px/スライド25.jpeg',\n",
              " '/content/drive/MyDrive/Deep_learning/GO_extended_dataset/GO_newPatient_250px/スライド26.jpeg',\n",
              " '/content/drive/MyDrive/Deep_learning/GO_extended_dataset/GO_newPatient_250px/スライド27.jpeg',\n",
              " '/content/drive/MyDrive/Deep_learning/GO_extended_dataset/GO_newPatient_250px/スライド28.jpeg',\n",
              " '/content/drive/MyDrive/Deep_learning/GO_extended_dataset/GO_newPatient_250px/スライド29.jpeg',\n",
              " '/content/drive/MyDrive/Deep_learning/GO_extended_dataset/GO_newPatient_250px/スライド30.jpeg',\n",
              " '/content/drive/MyDrive/Deep_learning/GO_extended_dataset/GO_newPatient_250px/スライド31.jpeg',\n",
              " '/content/drive/MyDrive/Deep_learning/GO_extended_dataset/GO_newPatient_250px/スライド32.jpeg',\n",
              " '/content/drive/MyDrive/Deep_learning/GO_extended_dataset/GO_newPatient_250px/スライド33.jpeg',\n",
              " '/content/drive/MyDrive/Deep_learning/GO_extended_dataset/GO_newPatient_250px/スライド34.jpeg',\n",
              " '/content/drive/MyDrive/Deep_learning/GO_extended_dataset/GO_newPatient_250px/スライド35.jpeg',\n",
              " '/content/drive/MyDrive/Deep_learning/GO_extended_dataset/GO_newPatient_250px/スライド36.jpeg',\n",
              " '/content/drive/MyDrive/Deep_learning/GO_extended_dataset/GO_newPatient_250px/スライド37.jpeg',\n",
              " '/content/drive/MyDrive/Deep_learning/GO_extended_dataset/GO_newPatient_250px/スライド38.jpeg',\n",
              " '/content/drive/MyDrive/Deep_learning/GO_extended_dataset/GO_newPatient_250px/スライド39.jpeg',\n",
              " '/content/drive/MyDrive/Deep_learning/GO_extended_dataset/GO_newPatient_250px/スライド40.jpeg',\n",
              " '/content/drive/MyDrive/Deep_learning/GO_extended_dataset/GO_newPatient_250px/スライド41.jpeg',\n",
              " '/content/drive/MyDrive/Deep_learning/GO_extended_dataset/GO_newPatient_250px/スライド42.jpeg',\n",
              " '/content/drive/MyDrive/Deep_learning/GO_extended_dataset/GO_newPatient_250px/スライド43.jpeg',\n",
              " '/content/drive/MyDrive/Deep_learning/GO_extended_dataset/GO_newPatient_250px/スライド44.jpeg',\n",
              " '/content/drive/MyDrive/Deep_learning/GO_extended_dataset/GO_newPatient_250px/スライド45.jpeg']"
            ]
          },
          "metadata": {},
          "execution_count": 3
        }
      ]
    },
    {
      "cell_type": "markdown",
      "source": [
        "###**Load model**"
      ],
      "metadata": {
        "id": "t4OiMurgHhRV"
      }
    },
    {
      "cell_type": "code",
      "source": [
        "##########################\n",
        "# Load model \n",
        "##########################\n",
        "!pip install --quiet timm\n",
        "import timm\n",
        "import torch.nn as nn\n",
        "\n",
        "\n",
        "model_ft = timm.create_model('mobilenetv3_large_100', pretrained=True)\n",
        "num_ftrs = model_ft.classifier.in_features\n",
        "model_ft.classifier = nn.Linear(num_ftrs, 2)\n",
        "\n",
        "#ネットワークの読み込み\n",
        "model_ft.load_state_dict(torch.load(model_path))\n",
        "\n",
        "\n",
        "\n"
      ],
      "metadata": {
        "id": "I0s6sfExHeeZ",
        "outputId": "742bdf89-db56-4a38-8027-a87a49be99ca",
        "colab": {
          "base_uri": "https://localhost:8080/"
        }
      },
      "execution_count": 5,
      "outputs": [
        {
          "output_type": "execute_result",
          "data": {
            "text/plain": [
              "<All keys matched successfully>"
            ]
          },
          "metadata": {},
          "execution_count": 5
        }
      ]
    }
  ]
}