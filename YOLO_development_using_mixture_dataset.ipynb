{
  "nbformat": 4,
  "nbformat_minor": 0,
  "metadata": {
    "colab": {
      "provenance": [],
      "authorship_tag": "ABX9TyPn6zSZjsPClVpnz6TSQzOE",
      "include_colab_link": true
    },
    "kernelspec": {
      "name": "python3",
      "display_name": "Python 3"
    },
    "language_info": {
      "name": "python"
    }
  },
  "cells": [
    {
      "cell_type": "markdown",
      "metadata": {
        "id": "view-in-github",
        "colab_type": "text"
      },
      "source": [
        "<a href=\"https://colab.research.google.com/github/ykitaguchi77/GO_AI_project/blob/main/YOLO_development_using_mixture_dataset.ipynb\" target=\"_parent\"><img src=\"https://colab.research.google.com/assets/colab-badge.svg\" alt=\"Open In Colab\"/></a>"
      ]
    },
    {
      "cell_type": "markdown",
      "source": [
        "#**Development of YOLO-NAS/YOLOv8 model using Handai+Olympia mixture dataset**\n",
        "\n"
      ],
      "metadata": {
        "id": "GFvlhCCr_swh"
      }
    },
    {
      "cell_type": "markdown",
      "source": [
        "2施設のデータセットを混合してYOLOのトレーニングをする\n",
        "\n",
        "両データセットとも、train:val:test = 7:2:1とする\n",
        "\n",
        "Stratified group kfoldで分ける"
      ],
      "metadata": {
        "id": "My-iO5pOA4Ny"
      }
    },
    {
      "cell_type": "code",
      "execution_count": null,
      "metadata": {
        "id": "_h46MNom_sOm"
      },
      "outputs": [],
      "source": []
    },
    {
      "cell_type": "code",
      "source": [],
      "metadata": {
        "id": "OazPYGIFA20C"
      },
      "execution_count": null,
      "outputs": []
    },
    {
      "cell_type": "code",
      "source": [],
      "metadata": {
        "id": "KGMnXAn-_skx"
      },
      "execution_count": null,
      "outputs": []
    }
  ]
}