{
  "nbformat": 4,
  "nbformat_minor": 0,
  "metadata": {
    "colab": {
      "provenance": [],
      "authorship_tag": "ABX9TyPtyukZ84zAFKxvqNeFiCyz",
      "include_colab_link": true
    },
    "kernelspec": {
      "name": "python3",
      "display_name": "Python 3"
    },
    "language_info": {
      "name": "python"
    }
  },
  "cells": [
    {
      "cell_type": "markdown",
      "metadata": {
        "id": "view-in-github",
        "colab_type": "text"
      },
      "source": [
        "<a href=\"https://colab.research.google.com/github/ykitaguchi77/GO_AI_project/blob/main/Hertel%E7%94%BB%E5%83%8F%E6%8A%BD%E5%87%BA_local.ipynb\" target=\"_parent\"><img src=\"https://colab.research.google.com/assets/colab-badge.svg\" alt=\"Open In Colab\"/></a>"
      ]
    },
    {
      "cell_type": "markdown",
      "source": [
        "#**Hertel画像抽出**\n",
        "\n",
        "CSVのリスト\n",
        "\n",
        "→Patient numberとdateから画像を抽出\n",
        "\n",
        "→指定のフォルダに画像をコピー\n",
        "\n",
        "→画像名前/Hertelのリストを作成しcsvとして出力"
      ],
      "metadata": {
        "id": "TG1sHcVCRw8A"
      }
    },
    {
      "cell_type": "code",
      "source": [
        "import os\n",
        "import shutil\n",
        "import pandas as pd\n",
        "\n",
        "csv_path = r\"D:\\ダウンロード\\Hertel_list_TED.csv\" #元csvのパス\n",
        "source_dir = r\"F:\\眼位写真NEW\" #画像の検索先\n",
        "destination_dir = r\"D:\\ダウンロード\\HerteL_images_TED\" #画像のコピー先\n",
        "save_temp_path = r\"D:\\ダウンロード\\Img_Hertel_list_TED_temp.csv\" #作成したcsvの保存先\n",
        "\n",
        "\n",
        "# CSVファイルを読み込む\n",
        "df = pd.read_csv(csv_path)\n",
        "\n",
        "# 1. 新しいデータフレームdf_TED_listを作成します。\n",
        "df_TED_list = pd.DataFrame(columns=[\"file_name\", \"Patient_num\", \"Hertel_R\", \"Hertel_L\"])\n",
        "\n",
        "# ディレクトリの内容を一度だけ取得\n",
        "path_list = os.listdir(source_dir)\n",
        "\n",
        "# 一時的なリストを作成して、後でまとめてデータフレームに追加する\n",
        "temp_data = []\n",
        "\n",
        "for _, row in df.iterrows():\n",
        "    # 2. dfのそれぞれの行で、Patient_numとPatient_dateをハイフンでつなげる\n",
        "    filename_pattern = f\"{row['Patient_num']}-{row['date']}\"\n",
        "\n",
        "    matched_files = [file for file in path_list if filename_pattern in file]\n",
        "\n",
        "    for file in matched_files:\n",
        "        # もしあれば、そのファイルをr\"D:\\ダウンロード\\HerteL_images_TED\"にコピーします。\n",
        "        shutil.copy(os.path.join(source_dir, file), destination_dir)\n",
        "\n",
        "        # 一時リストにデータを追加\n",
        "        temp_data.append({\n",
        "            \"file_name\": os.path.basename(file),\n",
        "            \"Patient_num\": row['Patient_num'],\n",
        "            \"Hertel_R\": row['Hertel_R'],\n",
        "            \"Hertel_L\": row['Hertel_L']\n",
        "        })\n",
        "\n",
        "        print(f\"{filename_pattern} copied\")\n",
        "\n",
        "# 一時リストの内容をデータフレームに追加\n",
        "df_TED_list = df_TED_list.append(temp_data, ignore_index=True)\n",
        "\n",
        "#df_TED_listを\"D:\\ダウンロード\"内にcsvとして保存\n",
        "df_TED_list.to_csv(save_path, index=False)\n",
        "save_path"
      ],
      "metadata": {
        "id": "XIS-u6RcHfb_"
      },
      "execution_count": null,
      "outputs": []
    },
    {
      "cell_type": "code",
      "source": [
        "import os\n",
        "import shutil\n",
        "import pandas as pd\n",
        "\n",
        "csv_path = r\"D:\\ダウンロード\\Hertel_list_TUMOR.csv\" #元csvのパス\n",
        "source_dir = r\"F:\\眼位写真NEW\" #画像の検索先\n",
        "destination_dir = r\"D:\\ダウンロード\\HerteL_images_TUMOR\" #画像のコピー先\n",
        "save_temp_path = r\"D:\\ダウンロード\\Img_Hertel_list_TUMOR_temp.csv\" #作成したcsvの保存先\n",
        "\n",
        "\n",
        "# CSVファイルを読み込む\n",
        "df = pd.read_csv(csv_path)\n",
        "\n",
        "# 1. 新しいデータフレームdf_TED_listを作成します。\n",
        "df_TED_list = pd.DataFrame(columns=[\"file_name\", \"Patient_num\", \"Hertel_R\", \"Hertel_L\"])\n",
        "\n",
        "# ディレクトリの内容を一度だけ取得\n",
        "path_list = os.listdir(source_dir)\n",
        "\n",
        "# 一時的なリストを作成して、後でまとめてデータフレームに追加する\n",
        "temp_data = []\n",
        "\n",
        "for _, row in df.iterrows():\n",
        "    # 2. dfのそれぞれの行で、Patient_numとPatient_dateをハイフンでつなげる\n",
        "    filename_pattern = f\"{row['Patient_num']}-{row['date']}\"\n",
        "\n",
        "    matched_files = [file for file in path_list if filename_pattern in file]\n",
        "\n",
        "    for file in matched_files:\n",
        "        # もしあれば、そのファイルをr\"D:\\ダウンロード\\HerteL_images_TED\"にコピーします。\n",
        "        shutil.copy(os.path.join(source_dir, file), destination_dir)\n",
        "\n",
        "        # 一時リストにデータを追加\n",
        "        temp_data.append({\n",
        "            \"file_name\": os.path.basename(file),\n",
        "            \"Patient_num\": row['Patient_num'],\n",
        "            \"Hertel_R\": row['Hertel_R'],\n",
        "            \"Hertel_L\": row['Hertel_L']\n",
        "        })\n",
        "\n",
        "        print(f\"{filename_pattern} copied\")\n",
        "\n",
        "# 一時リストの内容をデータフレームに追加\n",
        "df_TED_list = df_TED_list.append(temp_data, ignore_index=True)\n",
        "\n",
        "#df_TED_listを\"D:\\ダウンロード\"内にcsvとして保存\n",
        "df_TED_list.to_csv(save_path, index=False)\n",
        "save_path"
      ],
      "metadata": {
        "id": "A4osLl9acimL"
      },
      "execution_count": null,
      "outputs": []
    },
    {
      "cell_type": "markdown",
      "source": [
        "### destination_dirの画像を整理 --> save_pathのcsvを修正（削除された画像の行を削除）"
      ],
      "metadata": {
        "id": "WpNHir3XZvri"
      }
    },
    {
      "cell_type": "code",
      "source": [
        "import pandas as pd\n",
        "import os\n",
        "\n",
        "csv_path = r\"D:\\ダウンロード\\Hertel_list_TED.csv\" #元csvのパス\n",
        "source_dir = r\"F:\\眼位写真NEW\" #画像の検索先\n",
        "destination_dir = r\"D:\\ダウンロード\\HerteL_images_TED\" #画像のコピー先\n",
        "save_temp_path = r\"D:\\ダウンロード\\Img_Hertel_list_TED_temp.csv\" #作成したcsvの保存先\n",
        "save_path = r\"D:\\ダウンロード\\Img_Hertel_list_TED.csv\" #作成したcsvの保存先\n",
        "\n",
        "\n",
        "# 1. save_pathのcsvをdfにする\n",
        "df = pd.read_csv(save_temp_path)\n",
        "\n",
        "# 2. destination_dirのファイルのbasenameをチェック\n",
        "destination_files = os.listdir(destination_dir)\n",
        "base_names = [os.path.basename(file) for file in destination_files]\n",
        "\n",
        "# 3. もし含まれなければdfから削除\n",
        "df = df[df['file_name'].isin(base_names)]\n",
        "\n",
        "# 結果を新しいCSVとして保存する場合\n",
        "df.to_csv(save_path, index=False)\n"
      ],
      "metadata": {
        "id": "XgdxCpHaLLW3"
      },
      "execution_count": 4,
      "outputs": []
    },
    {
      "cell_type": "code",
      "source": [
        "import pandas as pd\n",
        "import os\n",
        "\n",
        "csv_path = r\"D:\\ダウンロード\\Hertel_list_TUMOR.csv\" #元csvのパス\n",
        "source_dir = r\"F:\\眼位写真NEW\" #画像の検索先\n",
        "destination_dir = r\"D:\\ダウンロード\\HerteL_images_TUMOR\" #画像のコピー先\n",
        "save_temp_path = r\"D:\\ダウンロード\\Img_Hertel_list_TUMOR_temp.csv\" #作成したcsvの保存先\n",
        "save_path = r\"D:\\ダウンロード\\Img_Hertel_list_TUMOR.csv\" #作成したcsvの保存先\n",
        "\n",
        "\n",
        "# 1. save_pathのcsvをdfにする\n",
        "df = pd.read_csv(save_temp_path)\n",
        "\n",
        "# 2. destination_dirのファイルのbasenameをチェック\n",
        "destination_files = os.listdir(destination_dir)\n",
        "base_names = [os.path.basename(file) for file in destination_files]\n",
        "\n",
        "# 3. もし含まれなければdfから削除\n",
        "df = df[df['file_name'].isin(base_names)]\n",
        "\n",
        "# 結果を新しいCSVとして保存する場合\n",
        "df.to_csv(save_path, index=False)"
      ],
      "metadata": {
        "id": "u9mlKV0ybW53"
      },
      "execution_count": 8,
      "outputs": []
    }
  ]
}