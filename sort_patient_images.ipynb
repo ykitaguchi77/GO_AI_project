{
  "cells": [
    {
      "cell_type": "markdown",
      "source": [
        "[![Open In Colab](https://colab.research.google.com/assets/colab-badge.svg)](https://colab.research.google.com/github/ykitaguchi77/GO_AI_project/blob/main/sort_patient_images.ipynb)\n",
        "\n",
        "# **患者リストから甲状腺眼症を重症度別に抽出**"
      ],
      "metadata": {
        "id": "s0WOaTD3Krbn"
      }
    },
    {
      "cell_type": "code",
      "execution_count": null,
      "metadata": {
        "id": "kNmj82bzKEsQ"
      },
      "outputs": [],
      "source": [
        "import os\n",
        "from PIL import *\n",
        "import pandas as pd"
      ]
    },
    {
      "cell_type": "code",
      "execution_count": null,
      "metadata": {
        "id": "O6cxNw2wKEsT"
      },
      "outputs": [],
      "source": [
        "folder_path = \"/Volumes/Extreme SSD/眼位写真NEW\"\n",
        "csv_path = \"/Volumes/Extreme SSD/Disease_extracted_甲状腺眼症.バセドウ病眼症.csv\"\n",
        "\n",
        "\n",
        "def openCSV(csv_path):\n",
        "    #df = pd.read_csv(csv_path, encoding=\"shift-jis\")\n",
        "    df = pd.read_csv(csv_path, encoding=\"utf-8\", header=None)\n",
        "    #df = df.drop(df.columns[[0]], axis=1) #1列目を削除する\n",
        "    #print(df)\n",
        "    return df\n",
        "\n",
        "df = openCSV(csv_path)\n",
        "df"
      ]
    },
    {
      "cell_type": "code",
      "execution_count": null,
      "metadata": {
        "id": "XWo0e-UGKEsT"
      },
      "outputs": [],
      "source": [
        "#甲状腺眼症から始まるものを抽出\n",
        "df_temp = df.dropna(subset=[8])\n",
        "df_GO = df_temp[df_temp[8].str.startswith('甲状腺眼症')]\n",
        "\n",
        "#中等症以上ものを抽出\n",
        "df_temp = df.dropna(subset=[8])\n",
        "df_moderate = df_temp[df_temp[8].str.contains('中等症')]\n",
        "\n",
        "#ステロイドありを抽出\n",
        "df_temp = df.dropna(subset=[9])\n",
        "df_steroids = df_temp[df_temp[9].str.contains('ステロイドあり')]\n",
        "\n",
        "#中等症以上とステロイドありを合算\n",
        "df_treatable = pd.concat([df_moderate, df_steroids]).drop_duplicates()\n",
        "\n",
        "\n",
        "GO_list = df_treatable[2].tolist()\n",
        "GO_list"
      ]
    },
    {
      "cell_type": "code",
      "execution_count": null,
      "metadata": {
        "id": "TG6K6HB1KEsU",
        "outputId": "d5b3beaf-3636-4475-9d35-a02d9a0adae3"
      },
      "outputs": [
        {
          "data": {
            "text/plain": [
              "'1-20141126-38-091804_eb568e2ac952f8be45ec0ac9ae800120b7c988b60ac499ca87306986d218f554.jpg'"
            ]
          },
          "execution_count": 56,
          "metadata": {},
          "output_type": "execute_result"
        }
      ],
      "source": [
        "os.path.basename(glob.glob(folder_path +\"/*\")[0])"
      ]
    },
    {
      "cell_type": "code",
      "execution_count": null,
      "metadata": {
        "id": "4oFJQXQ2KEsV",
        "outputId": "7b15b3bb-9032-4957-a1ba-e6411f886785"
      },
      "outputs": [
        {
          "name": "stderr",
          "output_type": "stream",
          "text": [
            "100%|██████████| 79905/79905 [13:54<00:00, 95.74it/s]  "
          ]
        },
        {
          "name": "stdout",
          "output_type": "stream",
          "text": [
            "total 4432 files picked up!\n"
          ]
        },
        {
          "name": "stderr",
          "output_type": "stream",
          "text": [
            "\n"
          ]
        }
      ],
      "source": [
        "import os\n",
        "import glob\n",
        "import shutil\n",
        "from tqdm import tqdm\n",
        "\n",
        "\n",
        "k=1\n",
        "for path in tqdm(glob.glob(folder_path +\"/*\")):\n",
        "    #画像IDがGO_listから始まるものを抜き出す\n",
        "    #print(os.path.basename(path).rsplit(\"-\")[0])\n",
        "    if int(os.path.basename(path).rsplit(\"-\")[0]) in GO_list:\n",
        "        shutil.copy(path, f\"/Volumes/Extreme SSD/Treatable_GO_images/{os.path.basename(path)}\")\n",
        "        k+=1\n",
        "\n",
        "print(f\"total {k} files picked up!\")\n"
      ]
    },
    {
      "cell_type": "code",
      "execution_count": null,
      "metadata": {
        "id": "p9EJbDGQKEsV"
      },
      "outputs": [],
      "source": []
    },
    {
      "cell_type": "code",
      "execution_count": null,
      "metadata": {
        "id": "vSD6Dp5IKEsW"
      },
      "outputs": [],
      "source": []
    }
  ],
  "metadata": {
    "kernelspec": {
      "display_name": "Python 3.9.11 64-bit ('3.9.11')",
      "language": "python",
      "name": "python3"
    },
    "language_info": {
      "codemirror_mode": {
        "name": "ipython",
        "version": 3
      },
      "file_extension": ".py",
      "mimetype": "text/x-python",
      "name": "python",
      "nbconvert_exporter": "python",
      "pygments_lexer": "ipython3",
      "version": "3.9.11"
    },
    "orig_nbformat": 4,
    "vscode": {
      "interpreter": {
        "hash": "4c54f5a2397fd64f626d092de7078fa2077698fcad5e5718d5dd580f486c5028"
      }
    },
    "colab": {
      "provenance": []
    }
  },
  "nbformat": 4,
  "nbformat_minor": 0
}