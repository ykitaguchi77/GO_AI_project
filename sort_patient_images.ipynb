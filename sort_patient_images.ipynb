{
  "cells": [
    {
      "cell_type": "markdown",
      "source": [
        "[![Open In Colab](https://colab.research.google.com/assets/colab-badge.svg)](https://colab.research.google.com/github/ykitaguchi77/GO_AI_project/blob/main/sort_patient_images.ipynb)\n",
        "\n",
        "# **患者リストから甲状腺眼症を重症度別に抽出**"
      ],
      "metadata": {
        "id": "s0WOaTD3Krbn"
      }
    },
    {
      "cell_type": "code",
      "execution_count": null,
      "metadata": {
        "id": "kNmj82bzKEsQ"
      },
      "outputs": [],
      "source": [
        "import os\n",
        "from PIL import *\n",
        "import pandas as pd"
      ]
    },
    {
      "cell_type": "code",
      "execution_count": null,
      "metadata": {
        "id": "O6cxNw2wKEsT"
      },
      "outputs": [],
      "source": [
        "folder_path = \"/Volumes/Extreme SSD/眼位写真NEW\"\n",
        "csv_path = \"/Volumes/Extreme SSD/Disease_extracted_甲状腺眼症.バセドウ病眼症.csv\"\n",
        "\n",
        "\n",
        "def openCSV(csv_path):\n",
        "    #df = pd.read_csv(csv_path, encoding=\"shift-jis\")\n",
        "    df = pd.read_csv(csv_path, encoding=\"utf-8\", header=None)\n",
        "    #df = df.drop(df.columns[[0]], axis=1) #1列目を削除する\n",
        "    #print(df)\n",
        "    return df\n",
        "\n",
        "df = openCSV(csv_path)\n",
        "df"
      ]
    },
    {
      "cell_type": "code",
      "execution_count": null,
      "metadata": {
        "id": "XWo0e-UGKEsT"
      },
      "outputs": [],
      "source": [
        "#甲状腺眼症から始まるものを抽出\n",
        "df_temp = df.dropna(subset=[8])\n",
        "df_GO = df_temp[df_temp[8].str.startswith('甲状腺眼症')]\n",
        "\n",
        "#中等症以上ものを抽出\n",
        "df_temp = df.dropna(subset=[8])\n",
        "df_moderate = df_temp[df_temp[8].str.contains('中等症')]\n",
        "\n",
        "#ステロイドありを抽出\n",
        "df_temp = df.dropna(subset=[9])\n",
        "df_steroids = df_temp[df_temp[9].str.contains('ステロイドあり')]\n",
        "\n",
        "#中等症以上とステロイドありを合算\n",
        "df_treatable = pd.concat([df_moderate, df_steroids]).drop_duplicates()\n",
        "\n",
        "\n",
        "GO_list = df_treatable[2].tolist()\n",
        "GO_list"
      ]
    },
    {
      "cell_type": "code",
      "execution_count": null,
      "metadata": {
        "id": "TG6K6HB1KEsU",
        "outputId": "d5b3beaf-3636-4475-9d35-a02d9a0adae3"
      },
      "outputs": [
        {
          "data": {
            "text/plain": [
              "'1-20141126-38-091804_eb568e2ac952f8be45ec0ac9ae800120b7c988b60ac499ca87306986d218f554.jpg'"
            ]
          },
          "execution_count": 56,
          "metadata": {},
          "output_type": "execute_result"
        }
      ],
      "source": [
        "os.path.basename(glob.glob(folder_path +\"/*\")[0])"
      ]
    },
    {
      "cell_type": "code",
      "execution_count": null,
      "metadata": {
        "id": "4oFJQXQ2KEsV",
        "outputId": "7b15b3bb-9032-4957-a1ba-e6411f886785"
      },
      "outputs": [
        {
          "name": "stderr",
          "output_type": "stream",
          "text": [
            "100%|██████████| 79905/79905 [13:54<00:00, 95.74it/s]  "
          ]
        },
        {
          "name": "stdout",
          "output_type": "stream",
          "text": [
            "total 4432 files picked up!\n"
          ]
        },
        {
          "name": "stderr",
          "output_type": "stream",
          "text": [
            "\n"
          ]
        }
      ],
      "source": [
        "import os\n",
        "import glob\n",
        "import shutil\n",
        "from tqdm import tqdm\n",
        "\n",
        "\n",
        "k=1\n",
        "for path in tqdm(glob.glob(folder_path +\"/*\")):\n",
        "    #画像IDがGO_listから始まるものを抜き出す\n",
        "    #print(os.path.basename(path).rsplit(\"-\")[0])\n",
        "    if int(os.path.basename(path).rsplit(\"-\")[0]) in GO_list:\n",
        "        shutil.copy(path, f\"/Volumes/Extreme SSD/Treatable_GO_images/{os.path.basename(path)}\")\n",
        "        k+=1\n",
        "\n",
        "print(f\"total {k} files picked up!\")\n"
      ]
    },
    {
      "cell_type": "code",
      "execution_count": null,
      "metadata": {
        "id": "p9EJbDGQKEsV"
      },
      "outputs": [],
      "source": []
    },
    {
      "cell_type": "code",
      "execution_count": null,
      "metadata": {
        "id": "vSD6Dp5IKEsW"
      },
      "outputs": [],
      "source": []
    },
    {
      "cell_type": "markdown",
      "source": [
        "#**オリンピアデータセットの抽出**"
      ],
      "metadata": {
        "id": "ncYz-f67OllO"
      }
    },
    {
      "cell_type": "code",
      "source": [
        "from google.colab import drive\n",
        "drive.mount('/content/drive')"
      ],
      "metadata": {
        "id": "sTsqHP87Opyd",
        "outputId": "cdaa9ecd-1def-4871-c734-a352019dc439",
        "colab": {
          "base_uri": "https://localhost:8080/"
        }
      },
      "execution_count": 1,
      "outputs": [
        {
          "output_type": "stream",
          "name": "stdout",
          "text": [
            "Mounted at /content/drive\n"
          ]
        }
      ]
    },
    {
      "cell_type": "code",
      "source": [
        "import os\n",
        "import shutil\n",
        "import glob\n",
        "\n",
        "full_dataset_path = \"/content/drive/MyDrive/Deep_learning/Olympia_dataset/dataset\" #編集未の画像を格納されているフォルダ\n",
        "reference_path = \"/content/drive/MyDrive/Deep_learning/Olympia_dataset/treated_500px\" #治療された患者のIDが格納されているフォルダ\n",
        "\n",
        "# reference_path内のファイルのベース名を取得\n",
        "reference_files = [os.path.basename(file) for file in glob.glob(os.path.join(reference_path, \"*\"))]\n",
        "\n",
        "# full_dataset_path内のファイルと比較して一致するファイルのパスを取得\n",
        "matching_files = [file for file in glob.glob(os.path.join(full_dataset_path, \"*\")) if os.path.basename(file) in reference_files]\n",
        "\n",
        "# 最初の5つのファイルパスを表示\n",
        "for file_path in matching_files[:5]:\n",
        "    print(file_path)\n"
      ],
      "metadata": {
        "id": "yNgZKLfNOySq",
        "outputId": "b68ef1cc-c7ea-4823-a465-63f94f16b2c3",
        "colab": {
          "base_uri": "https://localhost:8080/"
        }
      },
      "execution_count": 6,
      "outputs": [
        {
          "output_type": "stream",
          "name": "stdout",
          "text": [
            "/content/drive/MyDrive/Deep_learning/Olympia_dataset/dataset/19.JPG\n",
            "/content/drive/MyDrive/Deep_learning/Olympia_dataset/dataset/28.JPG\n",
            "/content/drive/MyDrive/Deep_learning/Olympia_dataset/dataset/30.JPG\n",
            "/content/drive/MyDrive/Deep_learning/Olympia_dataset/dataset/35.JPG\n",
            "/content/drive/MyDrive/Deep_learning/Olympia_dataset/dataset/36.JPG\n"
          ]
        }
      ]
    },
    {
      "cell_type": "code",
      "source": [
        "#img2square\n",
        "import os\n",
        "import shutil\n",
        "import glob\n",
        "import numpy as np\n",
        "import matplotlib.pyplot as plt\n",
        "import time\n",
        "import pandas as pd\n",
        "from PIL import Image\n",
        "\n",
        "def convert(matching_files, out_path):\n",
        "    start = time.time()\n",
        "\n",
        "    for i in matching_files:\n",
        "          img = Image.open(i)\n",
        "          # \"olympia_\"をファイル名の先頭に追加\n",
        "          new_filename = \"olympia_\" + os.path.basename(i)\n",
        "          img_new = expand2square(img, (0, 0, 0)).resize((768, 768))\n",
        "          img_new.save(os.path.join(out_path, new_filename))\n",
        "          print(os.path.join(out_path, new_filename))\n",
        "\n",
        "    print('Process done!!')\n",
        "    elapsed_time = time.time() - start\n",
        "    print (\"elapsed_time:{0}\".format(elapsed_time) + \"[sec]\")\n",
        "\n",
        "def expand2square(pil_img, background_color):\n",
        "    width, height = pil_img.size\n",
        "    if width == height:\n",
        "        return pil_img\n",
        "    elif width > height:\n",
        "        result = Image.new(pil_img.mode, (width, width), background_color)\n",
        "        result.paste(pil_img, (0, (width-height)//2))\n",
        "        return result\n",
        "    else:\n",
        "        result = Image.new(pil_img.mode, (height, height), background_color)\n",
        "        result.paste(pil_img, ((height - width) // 2, 0))\n",
        "        return result\n"
      ],
      "metadata": {
        "id": "USErxkpIR7Kj"
      },
      "execution_count": 15,
      "outputs": []
    },
    {
      "cell_type": "code",
      "source": [
        "#画像出力\n",
        "out_path = '/content/drive/MyDrive/Deep_learning/DreamBooth/GravCont768px/grav333'\n",
        "if not os.path.exists(out_path):\n",
        "    os.makedirs(out_path)\n",
        "\n",
        "convert(matching_files, out_path)"
      ],
      "metadata": {
        "id": "Dalc-EoJWhCx"
      },
      "execution_count": null,
      "outputs": []
    }
  ],
  "metadata": {
    "kernelspec": {
      "display_name": "Python 3.9.11 64-bit ('3.9.11')",
      "language": "python",
      "name": "python3"
    },
    "language_info": {
      "codemirror_mode": {
        "name": "ipython",
        "version": 3
      },
      "file_extension": ".py",
      "mimetype": "text/x-python",
      "name": "python",
      "nbconvert_exporter": "python",
      "pygments_lexer": "ipython3",
      "version": "3.9.11"
    },
    "orig_nbformat": 4,
    "vscode": {
      "interpreter": {
        "hash": "4c54f5a2397fd64f626d092de7078fa2077698fcad5e5718d5dd580f486c5028"
      }
    },
    "colab": {
      "provenance": []
    }
  },
  "nbformat": 4,
  "nbformat_minor": 0
}