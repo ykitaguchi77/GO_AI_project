{
  "nbformat": 4,
  "nbformat_minor": 0,
  "metadata": {
    "colab": {
      "provenance": [],
      "authorship_tag": "ABX9TyPtdfF3mjnQdh4x1hpK1ZUA",
      "include_colab_link": true
    },
    "kernelspec": {
      "name": "python3",
      "display_name": "Python 3"
    },
    "language_info": {
      "name": "python"
    }
  },
  "cells": [
    {
      "cell_type": "markdown",
      "metadata": {
        "id": "view-in-github",
        "colab_type": "text"
      },
      "source": [
        "<a href=\"https://colab.research.google.com/github/ykitaguchi77/GO_AI_project/blob/main/Comparing_Pytorch_and_CoreML_prediction.ipynb\" target=\"_parent\"><img src=\"https://colab.research.google.com/assets/colab-badge.svg\" alt=\"Open In Colab\"/></a>"
      ]
    },
    {
      "cell_type": "markdown",
      "source": [
        "#**Comparing Pytorch and CoreML results**"
      ],
      "metadata": {
        "id": "MOZifPOKB3Vp"
      }
    },
    {
      "cell_type": "code",
      "execution_count": 1,
      "metadata": {
        "colab": {
          "base_uri": "https://localhost:8080/"
        },
        "id": "Syc0EsFFBnZx",
        "outputId": "0d588985-5ecb-4d15-c122-098ab8628d5f"
      },
      "outputs": [
        {
          "output_type": "stream",
          "name": "stdout",
          "text": [
            "Mounted at /content/drive\n"
          ]
        }
      ],
      "source": [
        "#google driveをcolabolatoryにマウント\n",
        "from google.colab import drive\n",
        "drive.mount('/content/drive')"
      ]
    },
    {
      "cell_type": "code",
      "source": [
        "import pandas as pd\n",
        "pd.set_option('display.max_columns', None)\n",
        "pd.set_option('display.max_rows', None)\n",
        "\n",
        "\n",
        "\n",
        "def openCSV(csv_path):\n",
        "    df = pd.read_csv(csv_path, encoding=\"utf-8\")\n",
        "    #df = df.drop(df.columns[[0]], axis=1) #1列目を削除する\n",
        "    #print(df)\n",
        "    return df\n",
        "\n",
        "csv_path = \"/content/drive/MyDrive/Deep_learning/GO_extended_dataset/gravcont_newPatient_mobileNetv3_20221025.csv\"\n",
        "df = openCSV(csv_path)\n",
        "df"
      ],
      "metadata": {
        "id": "PdupDBN0B2Vj"
      },
      "execution_count": null,
      "outputs": []
    },
    {
      "cell_type": "code",
      "source": [
        "from sklearn.metrics import confusion_matrix, accuracy_score, precision_score, recall_score, f1_score, roc_curve, roc_auc_score\n",
        "import statistics\n",
        "\n",
        "\n",
        "def specificity_score(label, pred):\n",
        "    tn, fp, fn, tp = confusion_matrix(label, pred).flatten()\n",
        "    return tn / (tn + fp)\n",
        "\n",
        "\n",
        "accuracy_list, precision_list, recall_list, specificity_list, f1_score_list = [], [], [], [], []\n",
        "for grader in [\"pred\", \"iPhone11_pred\"]:\n",
        "    Y_test = df[\"label\"]\n",
        "    Y_pred = df[grader]\n",
        "\n",
        "    tn, fp, fn, tp = confusion_matrix(Y_test, Y_pred).ravel()\n",
        "    #print(tp, fn, fp, tn)\n",
        "\n",
        "    print(f\"grader: {grader}\")\n",
        "    #print('confusion matrix = \\n', confusion_matrix(Y_test, Y_pred))\n",
        "    print(f'Accuracy : {accuracy_score(Y_test, Y_pred)}')\n",
        "    print(f'Precision (true positive rate) : {precision_score(Y_test, Y_pred)}')\n",
        "    print(f'Recall (sensitivity): {recall_score(Y_test, Y_pred)}')\n",
        "    print(f'Specificity : {specificity_score(Y_test, Y_pred)}')\n",
        "    print(f'F1 score : {f1_score(Y_test, Y_pred)}')\n",
        "    print(\"\")\n",
        "\n",
        "    accuracy_list.append(accuracy_score(Y_test, Y_pred))\n",
        "    precision_list.append(precision_score(Y_test, Y_pred))\n",
        "    recall_list.append(recall_score(Y_test, Y_pred))\n",
        "    specificity_list.append(specificity_score(Y_test, Y_pred))\n",
        "    f1_score_list.append(f1_score(Y_test, Y_pred))\n",
        "\n",
        "print(\"Average\")\n",
        "print(f\"Accuracy: {statistics.mean(accuracy_list)}±{statistics.stdev(accuracy_list)}\")\n",
        "print(f\"Precision: {statistics.mean(precision_list)}±{statistics.stdev(precision_list)}\")\n",
        "print(f\"Recall: {statistics.mean(recall_list)}±{statistics.stdev(recall_list)}\")\n",
        "print(f\"Specificity: {statistics.mean(specificity_list)}±{statistics.stdev(specificity_list)}\")\n",
        "print(f\"f1_score: {statistics.mean(f1_score_list)}±{statistics.stdev(f1_score_list)}\")"
      ],
      "metadata": {
        "colab": {
          "base_uri": "https://localhost:8080/"
        },
        "id": "ZVrEWmIwB2d3",
        "outputId": "10d53ea0-04e5-462f-f2bd-e28c36a85601"
      },
      "execution_count": 7,
      "outputs": [
        {
          "output_type": "stream",
          "name": "stdout",
          "text": [
            "grader: pred\n",
            "Accuracy : 0.8369565217391305\n",
            "Precision (true positive rate) : 0.8297872340425532\n",
            "Recall (sensitivity): 0.8478260869565217\n",
            "Specificity : 0.8260869565217391\n",
            "F1 score : 0.8387096774193549\n",
            "\n",
            "grader: iPhone11_pred\n",
            "Accuracy : 0.8586956521739131\n",
            "Precision (true positive rate) : 0.9230769230769231\n",
            "Recall (sensitivity): 0.782608695652174\n",
            "Specificity : 0.9347826086956522\n",
            "F1 score : 0.8470588235294118\n",
            "\n",
            "Average\n",
            "Accuracy: 0.8478260869565217±0.01537188654753363\n",
            "Precision: 0.8764320785597381±0.0659657717309873\n",
            "Recall: 0.8152173913043479±0.04611565964260089\n",
            "Specificity: 0.8804347826086957±0.07685943273766824\n",
            "f1_score: 0.8428842504743833±0.0059037378315385065\n"
          ]
        }
      ]
    }
  ]
}