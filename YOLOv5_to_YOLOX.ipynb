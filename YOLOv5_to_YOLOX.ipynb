{
  "nbformat": 4,
  "nbformat_minor": 0,
  "metadata": {
    "colab": {
      "provenance": [],
      "authorship_tag": "ABX9TyPbh4mnsBZxQETg+ekG0PGb",
      "include_colab_link": true
    },
    "kernelspec": {
      "name": "python3",
      "display_name": "Python 3"
    },
    "language_info": {
      "name": "python"
    }
  },
  "cells": [
    {
      "cell_type": "markdown",
      "metadata": {
        "id": "view-in-github",
        "colab_type": "text"
      },
      "source": [
        "<a href=\"https://colab.research.google.com/github/ykitaguchi77/GO_AI_project/blob/main/YOLOv5_to_YOLOX.ipynb\" target=\"_parent\"><img src=\"https://colab.research.google.com/assets/colab-badge.svg\" alt=\"Open In Colab\"/></a>"
      ]
    },
    {
      "cell_type": "markdown",
      "source": [
        "#**YOLO5 dataset to YOLOX form**\n",
        "\n",
        "YOLO5の形式をYOLOXの形式（COCO）に変換する\n",
        "\n",
        "参考： https://tt-tsukumochi.com/archives/160"
      ],
      "metadata": {
        "id": "B56FMlMBkA2a"
      }
    },
    {
      "cell_type": "code",
      "execution_count": 1,
      "metadata": {
        "id": "PJYuJyg0kAbT",
        "outputId": "51c1ff73-2216-4881-b856-1fd47df46788",
        "colab": {
          "base_uri": "https://localhost:8080/"
        }
      },
      "outputs": [
        {
          "output_type": "stream",
          "name": "stdout",
          "text": [
            "Mounted at /content/drive\n"
          ]
        }
      ],
      "source": [
        "from google.colab import drive\n",
        "drive.mount('/content/drive')"
      ]
    },
    {
      "cell_type": "code",
      "source": [
        "#このフォルダ構成に従ってデータを格納する\n",
        "\"\"\"\n",
        "YOLOV5\n",
        "├── classes.txt　←クラス一覧を記述\n",
        "├── traincar ←ここにデータセットを格納する（フォルダ名は任意）\n",
        "│   ├── images ←画像はここに格納する\n",
        "│   └── labels　←テキストファイルはここに格納する\n",
        "├── train.txt\n",
        "└── val.txt\n",
        "\"\"\""
      ],
      "metadata": {
        "id": "FuIc-tojvc42"
      },
      "execution_count": null,
      "outputs": []
    },
    {
      "cell_type": "code",
      "source": [
        "!mkdir -p /content/YOLOV5/traincar/images\n",
        "!mkdir -p /content/YOLOV5/traincar/labels\n",
        "!touch /content/YOLOV5/classes.txt\n",
        "!touch /content/YOLOV5/train.txt\n",
        "!touch /content/YOLOV5/val.txt\n"
      ],
      "metadata": {
        "id": "AublNeODxSVl"
      },
      "execution_count": 2,
      "outputs": []
    }
  ]
}