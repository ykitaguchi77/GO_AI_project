{
  "nbformat": 4,
  "nbformat_minor": 0,
  "metadata": {
    "colab": {
      "provenance": [],
      "authorship_tag": "ABX9TyPf5xE4LqnNLbKCkxHWFKvQ",
      "include_colab_link": true
    },
    "kernelspec": {
      "name": "python3",
      "display_name": "Python 3"
    },
    "language_info": {
      "name": "python"
    }
  },
  "cells": [
    {
      "cell_type": "markdown",
      "metadata": {
        "id": "view-in-github",
        "colab_type": "text"
      },
      "source": [
        "<a href=\"https://colab.research.google.com/github/ykitaguchi77/GO_AI_project/blob/main/YOLOv5_to_YOLOX.ipynb\" target=\"_parent\"><img src=\"https://colab.research.google.com/assets/colab-badge.svg\" alt=\"Open In Colab\"/></a>"
      ]
    },
    {
      "cell_type": "markdown",
      "source": [
        "#**YOLO5 dataset to YOLOX form**\n",
        "\n",
        "YOLO5の形式をYOLOXの形式（COCO）に変換する\n",
        "\n",
        "参考： https://tt-tsukumochi.com/archives/160"
      ],
      "metadata": {
        "id": "B56FMlMBkA2a"
      }
    },
    {
      "cell_type": "code",
      "execution_count": 1,
      "metadata": {
        "id": "PJYuJyg0kAbT",
        "colab": {
          "base_uri": "https://localhost:8080/"
        },
        "outputId": "51c1ff73-2216-4881-b856-1fd47df46788"
      },
      "outputs": [
        {
          "output_type": "stream",
          "name": "stdout",
          "text": [
            "Mounted at /content/drive\n"
          ]
        }
      ],
      "source": [
        "from google.colab import drive\n",
        "drive.mount('/content/drive')"
      ]
    },
    {
      "cell_type": "code",
      "source": [
        "#このフォルダ構成に従ってデータを格納する\n",
        "\"\"\"\n",
        "YOLOV5\n",
        "├── classes.txt　←クラス一覧を記述\n",
        "├── traincar ←ここにデータセットを格納する（フォルダ名は任意）\n",
        "│   ├── images ←画像はここに格納する\n",
        "│   └── labels　←テキストファイルはここに格納する\n",
        "├── train.txt\n",
        "└── val.txt\n",
        "\"\"\""
      ],
      "metadata": {
        "id": "FuIc-tojvc42"
      },
      "execution_count": null,
      "outputs": []
    },
    {
      "cell_type": "code",
      "source": [
        "#フォルダを作成\n",
        "!mkdir -p /content/YOLOV5/traincar/images\n",
        "!mkdir -p /content/YOLOV5/traincar/labels\n",
        "!touch /content/YOLOV5/classes.txt\n",
        "!touch /content/YOLOV5/train.txt\n",
        "!touch /content/YOLOV5/val.txt"
      ],
      "metadata": {
        "id": "AublNeODxSVl"
      },
      "execution_count": 2,
      "outputs": []
    },
    {
      "cell_type": "code",
      "source": [
        "#画像をラベルを作成したフォルダにコピー\n",
        "!cp /content/drive/MyDrive/Deep_learning/GO_extended_dataset/super_extend_for_YOLO_training/train/images/* /content/YOLOV5/traincar/images/\n",
        "!cp /content/drive/MyDrive/Deep_learning/GO_extended_dataset/super_extend_for_YOLO_training/valid/images/* /content/YOLOV5/traincar/images/\n",
        "!cp /content/drive/MyDrive/Deep_learning/GO_extended_dataset/super_extend_for_YOLO_training/train/labels/* /content/YOLOV5/traincar/labels/\n",
        "!cp /content/drive/MyDrive/Deep_learning/GO_extended_dataset/super_extend_for_YOLO_training/valid/labels/* /content/YOLOV5/traincar/labels/"
      ],
      "metadata": {
        "id": "V1BdlIkmyP57"
      },
      "execution_count": 3,
      "outputs": []
    },
    {
      "cell_type": "code",
      "source": [
        "%%writefile /content/YOLOV5/classes.txt\n",
        "#クラス一覧を記述\n",
        "grav\n",
        "cont\n",
        "\n",
        "#複数ある場合は1行ずつ書いていく"
      ],
      "metadata": {
        "colab": {
          "base_uri": "https://localhost:8080/"
        },
        "id": "dZG1zimDy8TK",
        "outputId": "f924f6b6-ca7c-4d04-e2eb-186b5bb0cc16"
      },
      "execution_count": 5,
      "outputs": [
        {
          "output_type": "stream",
          "name": "stdout",
          "text": [
            "Overwriting /content/YOLOV5/classes.txt\n"
          ]
        }
      ]
    },
    {
      "cell_type": "code",
      "source": [],
      "metadata": {
        "id": "MQXX-EV712xk"
      },
      "execution_count": null,
      "outputs": []
    }
  ]
}