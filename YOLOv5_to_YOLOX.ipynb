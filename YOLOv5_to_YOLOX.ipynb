{
  "nbformat": 4,
  "nbformat_minor": 0,
  "metadata": {
    "colab": {
      "provenance": [],
      "authorship_tag": "ABX9TyNXDsIU+kGUoXcMIB30TZTp",
      "include_colab_link": true
    },
    "kernelspec": {
      "name": "python3",
      "display_name": "Python 3"
    },
    "language_info": {
      "name": "python"
    }
  },
  "cells": [
    {
      "cell_type": "markdown",
      "metadata": {
        "id": "view-in-github",
        "colab_type": "text"
      },
      "source": [
        "<a href=\"https://colab.research.google.com/github/ykitaguchi77/GO_AI_project/blob/main/YOLOv5_to_YOLOX.ipynb\" target=\"_parent\"><img src=\"https://colab.research.google.com/assets/colab-badge.svg\" alt=\"Open In Colab\"/></a>"
      ]
    },
    {
      "cell_type": "markdown",
      "source": [
        "#**YOLO5 dataset to YOLOX form**\n",
        "\n",
        "YOLO5の形式をYOLOXの形式（COCO）に変換する\n",
        "\n",
        "参考： https://tt-tsukumochi.com/archives/160"
      ],
      "metadata": {
        "id": "B56FMlMBkA2a"
      }
    },
    {
      "cell_type": "code",
      "execution_count": null,
      "metadata": {
        "id": "PJYuJyg0kAbT"
      },
      "outputs": [],
      "source": []
    }
  ]
}