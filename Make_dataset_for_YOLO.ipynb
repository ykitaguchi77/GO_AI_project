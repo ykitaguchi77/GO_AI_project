{
  "nbformat": 4,
  "nbformat_minor": 0,
  "metadata": {
    "colab": {
      "provenance": [],
      "authorship_tag": "ABX9TyPdIgMuckG46x4oKCQ7qM54",
      "include_colab_link": true
    },
    "kernelspec": {
      "name": "python3",
      "display_name": "Python 3"
    },
    "language_info": {
      "name": "python"
    }
  },
  "cells": [
    {
      "cell_type": "markdown",
      "metadata": {
        "id": "view-in-github",
        "colab_type": "text"
      },
      "source": [
        "<a href=\"https://colab.research.google.com/github/ykitaguchi77/GO_AI_project/blob/main/Make_dataset_for_YOLO.ipynb\" target=\"_parent\"><img src=\"https://colab.research.google.com/assets/colab-badge.svg\" alt=\"Open In Colab\"/></a>"
      ]
    },
    {
      "cell_type": "markdown",
      "source": [
        "#**Create extended dataset for YOLOv5 implementation**\n",
        "\n",
        "Olympia\n",
        "\n",
        "・For_validation ：treated 169枚、control 169枚\n",
        "ここからテスト用に残すもの→treated 69枚、control 69枚\n",
        "controlのうち100枚→train/valに回す\n",
        "\n",
        "・Treated 640px：treated 561枚\n",
        "テスト用に残した69枚以外もの全て（grav:492枚）をtrain/valに回す\n",
        "\n",
        "\n",
        "\n",
        "Handai\n",
        "\n",
        "・GO_extended_dataset\n",
        "\n",
        "control: 1886枚\n",
        "\n",
        "treatable: 1879枚\n",
        "\n",
        "\n"
      ],
      "metadata": {
        "id": "tjNnRdgxBivp"
      }
    },
    {
      "cell_type": "code",
      "execution_count": null,
      "metadata": {
        "id": "UIKzuNXPBiT2"
      },
      "outputs": [],
      "source": []
    },
    {
      "cell_type": "code",
      "source": [],
      "metadata": {
        "id": "chHPUSNINNUF"
      },
      "execution_count": null,
      "outputs": []
    }
  ]
}