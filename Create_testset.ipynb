{
  "nbformat": 4,
  "nbformat_minor": 0,
  "metadata": {
    "colab": {
      "provenance": [],
      "authorship_tag": "ABX9TyNlQh+rg75QpJ8rpM7OqXWb",
      "include_colab_link": true
    },
    "kernelspec": {
      "name": "python3",
      "display_name": "Python 3"
    },
    "language_info": {
      "name": "python"
    }
  },
  "cells": [
    {
      "cell_type": "markdown",
      "metadata": {
        "id": "view-in-github",
        "colab_type": "text"
      },
      "source": [
        "<a href=\"https://colab.research.google.com/github/ykitaguchi77/GO_AI_project/blob/main/Create_testset.ipynb\" target=\"_parent\"><img src=\"https://colab.research.google.com/assets/colab-badge.svg\" alt=\"Open In Colab\"/></a>"
      ]
    },
    {
      "cell_type": "markdown",
      "source": [
        "# **Create testset**\n",
        "\n",
        "Control全体のリストから、train&valで用いたリストを引き算して、\n",
        "残りからランダムにcontrolのテストセットを作成する"
      ],
      "metadata": {
        "id": "FOxi94uPBWnb"
      }
    },
    {
      "cell_type": "code",
      "execution_count": 1,
      "metadata": {
        "colab": {
          "base_uri": "https://localhost:8080/"
        },
        "id": "atnpbstG8dGI",
        "outputId": "bb7ab42c-47e4-4da5-b2dd-e089c3d5c352"
      },
      "outputs": [
        {
          "output_type": "stream",
          "name": "stdout",
          "text": [
            "Setup complete. Using torch 1.12.1+cu113 CPU\n",
            "Mounted at /content/drive\n"
          ]
        }
      ],
      "source": [
        "import torch\n",
        "from IPython.display import Image, clear_output\n",
        "import os\n",
        "import shutil\n",
        "import glob\n",
        "\n",
        "clear_output()\n",
        "print('Setup complete. Using torch %s %s' % (torch.__version__, torch.cuda.get_device_properties(0) if torch.cuda.is_available() else 'CPU'))\n",
        "device = torch.device(\"cuda:0\" if torch.cuda.is_available() else \"cpu\")\n",
        "\n",
        "#GDriveをマウント\n",
        "from google.colab import drive\n",
        "drive.mount('/content/drive')"
      ]
    },
    {
      "cell_type": "code",
      "source": [
        "cont_parent_path = \"/content/drive/MyDrive/Deep_learning/GO_extended_dataset/Control_photo_1618mai\"\n",
        "cont_train_path = \"/content/drive/MyDrive/Deep_learning/666mai_dataset/gravcont_250px/cont\"\n",
        "\n",
        "cont_parent_list = [i for i in os.listdir(cont_parent_path)]\n",
        "cont_train_list = [i for i in os.listdir(cont_train_path)]"
      ],
      "metadata": {
        "id": "CGirFs-_8yaB"
      },
      "execution_count": 74,
      "outputs": []
    },
    {
      "cell_type": "code",
      "source": [
        "#parentからtrainを引き算\n",
        "cont_test_list = set(cont_parent_list) - set(cont_train_list)"
      ],
      "metadata": {
        "id": "CUGe0f6hAG5L"
      },
      "execution_count": 75,
      "outputs": []
    },
    {
      "cell_type": "code",
      "source": [
        "import random\n",
        "random.seed(0) \n",
        "\n",
        "#ランダムに46画像を選択\n",
        "cont_test_list = random.sample(cont_test_list, 46)\n",
        "cont_test_list = sorted(cont_test_list)\n",
        "\n",
        "#絶対パスに戻す\n",
        "cont_test_path = [f\"{cont_parent_path}/{basename}\" for basename in cont_test_list]\n"
      ],
      "metadata": {
        "id": "LfE3eyR4AJy8"
      },
      "execution_count": 76,
      "outputs": []
    },
    {
      "cell_type": "markdown",
      "source": [
        "###**Image2square**"
      ],
      "metadata": {
        "id": "yvhL8fOJHNSp"
      }
    },
    {
      "cell_type": "code",
      "source": [
        "import time\n",
        "from PIL import Image \n",
        "def convert(in_list, out_path):\n",
        "    #処理時間の計測\n",
        "    start = time.time()\n",
        "\n",
        "    l=0\n",
        "    for i in in_list:      \n",
        "          img = Image.open(i)\n",
        "          img_new = expand2square(img, (0, 0, 0)).resize((250, 250))\n",
        "          img_new.save(out_path +'/'+ os.path.basename(i))\n",
        "          print(out_path +'/'+ os.path.basename(i))\n",
        "\n",
        "    print('Process done!!')\n",
        "    elapsed_time = time.time() - start\n",
        "    print (\"elapsed_time:{0}\".format(elapsed_time) + \"[sec]\")\n",
        "\n",
        "def expand2square(pil_img, background_color):\n",
        "    width, height = pil_img.size\n",
        "    if width == height:\n",
        "        return pil_img\n",
        "    elif width > height:\n",
        "        result = Image.new(pil_img.mode, (width, width), background_color)\n",
        "        result.paste(pil_img, (0, (width-height)//2))\n",
        "        return result\n",
        "    else:\n",
        "        result = Image.new(pil_img.mode, (height, height), background_color)\n",
        "        result.paste(pil_img, (0, (height - width) // 2))\n",
        "        return result"
      ],
      "metadata": {
        "id": "cWdLxlMuBQg5"
      },
      "execution_count": 78,
      "outputs": []
    },
    {
      "cell_type": "code",
      "source": [
        "# Output\n",
        "dst_path = \"/content/drive/MyDrive/Deep_learning/GO_extended_dataset/Cont_newPatient_250px\"\n",
        "\n",
        "if os.path.exists(dst_path):\n",
        "    shutil.rmtree(dst_path)\n",
        "os.makedirs(dst_path)\n",
        "\n",
        "convert(cont_test_path, dst_path)"
      ],
      "metadata": {
        "id": "qTkSQpsKIBIa"
      },
      "execution_count": null,
      "outputs": []
    },
    {
      "cell_type": "markdown",
      "source": [
        "# **Cont_parentのpathを簡略化 (固有idから患者idのみに変換）**\n",
        "\n",
        "/content/drive/MyDrive/Deep_learning/GO_extended_dataset/Cont_newPatient_250px/9765-20191106-4-104153_6d5ef3fd8e520567986e16cd3b8c26d905aefcb84155a7af10124d851cdcc2c9.jpg\n",
        "\n",
        "→\n",
        "\n",
        "/content/drive/MyDrive/Deep_learning/GO_extended_dataset/Cont_newPatient_250px/9765.jpg\n",
        "\n",
        "※ リネームしたら前半の抽出 → img2squareをやり直す\n"
      ],
      "metadata": {
        "id": "BVQ6PZp5Sz3X"
      }
    },
    {
      "cell_type": "code",
      "source": [
        "#cont_parentのパスをリスト化する\n",
        "cont_parent_path = \"/content/drive/MyDrive/Deep_learning/GO_extended_dataset/Control_photo_1618mai\"\n",
        "os.listdir(cont_parent_path)\n",
        "\n",
        "cont_parent_list = glob.glob(f\"{cont_parent_path}/*\")\n",
        "cont_parent_list"
      ],
      "metadata": {
        "id": "CT5RJOiiLnVe"
      },
      "execution_count": null,
      "outputs": []
    },
    {
      "cell_type": "code",
      "source": [
        "#パス名にハイフンが含まれていたら、ハイフンより右側を削除する\n",
        "for orig_path in cont_parent_list:\n",
        "    if \"-\" in orig_path:\n",
        "        dst_path = os.path.dirname(orig_path) + \"/\" + os.path.basename(orig_path).split(\"-\")[0] + os.path.splitext(os.path.basename(orig_path))[1]\n",
        "        os.rename(orig_path, dst_path)\n",
        "        print(f\"{orig_path} --> {dst_path}\")\n",
        "    else:\n",
        "        pass"
      ],
      "metadata": {
        "id": "DGGiQV1lTBn_"
      },
      "execution_count": 70,
      "outputs": []
    },
    {
      "cell_type": "code",
      "source": [
        "#拡張子が重複しているものを修正する\n",
        "for orig_path in cont_parent_list:\n",
        "    if \".jpg.jpg\" in orig_path:\n",
        "        dst_path = orig_path.rsplit(\".\",1)[0]\n",
        "        os.rename(orig_path, dst_path)\n",
        "        print(f\"{orig_path} --> {dst_path}\")\n",
        "    elif \".JPG.JPG\" in orig_path:\n",
        "        dst_path = orig_path.rsplit(\".\",1)[0]\n",
        "        os.rename(orig_path, dst_path)\n",
        "        print(f\"{orig_path} --> {dst_path}\")\n",
        "    else:\n",
        "        pass"
      ],
      "metadata": {
        "id": "LzBbhZUEZF5V"
      },
      "execution_count": 72,
      "outputs": []
    },
    {
      "cell_type": "markdown",
      "source": [
        "#**Contデータセットのフルサイズ版を作成する**"
      ],
      "metadata": {
        "id": "ifP98HcjhjHp"
      }
    },
    {
      "cell_type": "code",
      "source": [
        "cont_parent_path = \"/content/drive/MyDrive/Deep_learning/GO_extended_dataset/Control_photo_1618mai\"\n",
        "cont_children_path = \"/content/drive/MyDrive/Deep_learning/GO_extended_dataset/Cont_newPatient_250px\"\n",
        "dst_children_path = \"/content/drive/MyDrive/Deep_learning/GO_extended_dataset/Cont_newPatient_full\"\n",
        "\n",
        "#basename\n",
        "cont_children_list = os.listdir(cont_children_path)\n",
        "\n",
        "if os.path.exists(dst_children_path):\n",
        "    shutil.rmtree(dst_children_path)\n",
        "os.makedirs(dst_children_path)\n",
        "\n",
        "for path in cont_children_list:\n",
        "    shutil.copy(os.path.join(cont_parent_path, path), os.path.join(dst_children_path, path))\n",
        "    print(os.path.join(dst_children_path, path))"
      ],
      "metadata": {
        "id": "z_RYAPn2pAY8"
      },
      "execution_count": null,
      "outputs": []
    },
    {
      "cell_type": "markdown",
      "source": [
        "# **Gravフォルダの\"スライド\"を\"slide\"に変換する**\n",
        "\n",
        "/content/drive/MyDrive/Deep_learning/GO_extended_dataset/GO_newPatient_250px/スライド6.jpeg \n",
        "\n",
        "--> \n",
        "\n",
        "/content/drive/MyDrive/Deep_learning/GO_extended_dataset/GO_newPatient_250px/slide6.jpeg\n",
        "\n",
        "（utf-8形式に変換するため）"
      ],
      "metadata": {
        "id": "lBokcYiFm8YS"
      }
    },
    {
      "cell_type": "code",
      "source": [
        "grav_parent_path = \"/content/drive/MyDrive/Deep_learning/GO_extended_dataset/GO_newPatient_photo\"\n",
        "grav_test_path = \"/content/drive/MyDrive/Deep_learning/GO_extended_dataset/GO_newPatient_250px\"\n",
        "\n",
        "\n",
        "#拡張子が重複しているものを修正する\n",
        "for orig_path in glob.glob(f\"{grav_test_path}/*\"):\n",
        "    if \"スライド\" in orig_path:\n",
        "        dst_path = orig_path.replace(\"スライド\",\"slide\")\n",
        "        os.rename(orig_path, dst_path)\n",
        "        print(f\"{orig_path} --> {dst_path}\")\n",
        "    else:\n",
        "        pass"
      ],
      "metadata": {
        "id": "fdToZFwIgz5a"
      },
      "execution_count": null,
      "outputs": []
    }
  ]
}