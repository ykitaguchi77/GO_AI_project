{
  "nbformat": 4,
  "nbformat_minor": 0,
  "metadata": {
    "colab": {
      "provenance": [],
      "authorship_tag": "ABX9TyMIslm0OdkH1MrUgmNSbsRf",
      "include_colab_link": true
    },
    "kernelspec": {
      "name": "python3",
      "display_name": "Python 3"
    },
    "language_info": {
      "name": "python"
    }
  },
  "cells": [
    {
      "cell_type": "markdown",
      "metadata": {
        "id": "view-in-github",
        "colab_type": "text"
      },
      "source": [
        "<a href=\"https://colab.research.google.com/github/ykitaguchi77/GO_AI_project/blob/main/Create_testset.ipynb\" target=\"_parent\"><img src=\"https://colab.research.google.com/assets/colab-badge.svg\" alt=\"Open In Colab\"/></a>"
      ]
    },
    {
      "cell_type": "markdown",
      "source": [
        "# **Create testset**\n",
        "\n",
        "Control全体のリストから、train&valで用いたリストを引き算して、\n",
        "残りからランダムにcontrolのテストセットを作成する"
      ],
      "metadata": {
        "id": "FOxi94uPBWnb"
      }
    },
    {
      "cell_type": "code",
      "execution_count": 1,
      "metadata": {
        "colab": {
          "base_uri": "https://localhost:8080/"
        },
        "id": "atnpbstG8dGI",
        "outputId": "a5abd6ac-811c-41b3-eba8-1d0e5e5de55e"
      },
      "outputs": [
        {
          "output_type": "stream",
          "name": "stdout",
          "text": [
            "Setup complete. Using torch 1.12.1+cu113 CPU\n",
            "Mounted at /content/drive\n"
          ]
        }
      ],
      "source": [
        "import torch\n",
        "from IPython.display import Image, clear_output\n",
        "import os\n",
        "import shutil\n",
        "import glob\n",
        "\n",
        "clear_output()\n",
        "print('Setup complete. Using torch %s %s' % (torch.__version__, torch.cuda.get_device_properties(0) if torch.cuda.is_available() else 'CPU'))\n",
        "device = torch.device(\"cuda:0\" if torch.cuda.is_available() else \"cpu\")\n",
        "\n",
        "#GDriveをマウント\n",
        "from google.colab import drive\n",
        "drive.mount('/content/drive')"
      ]
    },
    {
      "cell_type": "code",
      "source": [
        "cont_parent_path = \"/content/drive/MyDrive/Deep_learning/GO_extended_dataset/Control_photo_1618mai\"\n",
        "cont_train_path = \"/content/drive/MyDrive/Deep_learning/666mai_dataset/gravcont_250px/cont\"\n",
        "\n",
        "cont_parent_list = [i for i in os.listdir(cont_parent_path)]\n",
        "cont_train_list = [i for i in os.listdir(cont_train_path)]"
      ],
      "metadata": {
        "id": "CGirFs-_8yaB"
      },
      "execution_count": 8,
      "outputs": []
    },
    {
      "cell_type": "code",
      "source": [
        "#parentからtrainを引き算\n",
        "cont_test_list = set(cont_parent_list) - set(cont_train_list)"
      ],
      "metadata": {
        "id": "CUGe0f6hAG5L"
      },
      "execution_count": 45,
      "outputs": []
    },
    {
      "cell_type": "code",
      "source": [
        "import random\n",
        "random.seed(0) \n",
        "\n",
        "#ランダムに46画像を選択\n",
        "cont_test_list = random.sample(cont_test_list, 46)\n",
        "cont_test_list = sorted(cont_test_list)\n",
        "\n",
        "#絶対パスに戻す\n",
        "cont_test_path = [f\"{cont_parent_path}/{basename}\" for basename in cont_test_list]\n"
      ],
      "metadata": {
        "id": "LfE3eyR4AJy8"
      },
      "execution_count": 46,
      "outputs": []
    },
    {
      "cell_type": "markdown",
      "source": [
        "###**Image2square**"
      ],
      "metadata": {
        "id": "yvhL8fOJHNSp"
      }
    },
    {
      "cell_type": "code",
      "source": [
        "import time\n",
        "from PIL import Image \n",
        "def convert(in_path, out_path):\n",
        "    #処理時間の計測\n",
        "    start = time.time()\n",
        "\n",
        "    l=0\n",
        "    for i in in_path:      \n",
        "          img = Image.open(i)\n",
        "          img_new = expand2square(img, (0, 0, 0)).resize((250, 250))\n",
        "          img_new.save(out_path +'/'+ os.path.basename(i))\n",
        "          print(out_path +'/'+ os.path.basename(i))\n",
        "\n",
        "    print('Process done!!')\n",
        "    elapsed_time = time.time() - start\n",
        "    print (\"elapsed_time:{0}\".format(elapsed_time) + \"[sec]\")\n",
        "\n",
        "def expand2square(pil_img, background_color):\n",
        "    width, height = pil_img.size\n",
        "    if width == height:\n",
        "        return pil_img\n",
        "    elif width > height:\n",
        "        result = Image.new(pil_img.mode, (width, width), background_color)\n",
        "        result.paste(pil_img, (0, (width-height)//2))\n",
        "        return result\n",
        "    else:\n",
        "        result = Image.new(pil_img.mode, (height, height), background_color)\n",
        "        result.paste(pil_img, (0, (height - width) // 2))\n",
        "        return result"
      ],
      "metadata": {
        "id": "cWdLxlMuBQg5"
      },
      "execution_count": 49,
      "outputs": []
    },
    {
      "cell_type": "code",
      "source": [
        "# Output\n",
        "dst_path = \"/content/drive/MyDrive/Deep_learning/GO_extended_dataset/Cont_newPatient_250px\"\n",
        "\n",
        "if os.path.exists(dst_path):\n",
        "    shutil.rmtree(dst_path)\n",
        "os.makedirs(dst_path)\n",
        "\n",
        "convert(cont_test_path, dst_path)"
      ],
      "metadata": {
        "colab": {
          "base_uri": "https://localhost:8080/"
        },
        "id": "qTkSQpsKIBIa",
        "outputId": "93b6582a-13f8-437f-c057-50296943d818"
      },
      "execution_count": 52,
      "outputs": [
        {
          "output_type": "stream",
          "name": "stdout",
          "text": [
            "/content/drive/MyDrive/Deep_learning/GO_extended_dataset/Cont_newPatient_250px/1458.jpg\n",
            "/content/drive/MyDrive/Deep_learning/GO_extended_dataset/Cont_newPatient_250px/1795.jpg\n",
            "/content/drive/MyDrive/Deep_learning/GO_extended_dataset/Cont_newPatient_250px/1882.jpg\n",
            "/content/drive/MyDrive/Deep_learning/GO_extended_dataset/Cont_newPatient_250px/2019.jpg\n",
            "/content/drive/MyDrive/Deep_learning/GO_extended_dataset/Cont_newPatient_250px/2172.jpg\n",
            "/content/drive/MyDrive/Deep_learning/GO_extended_dataset/Cont_newPatient_250px/2277.jpg\n",
            "/content/drive/MyDrive/Deep_learning/GO_extended_dataset/Cont_newPatient_250px/2323.jpg\n",
            "/content/drive/MyDrive/Deep_learning/GO_extended_dataset/Cont_newPatient_250px/2353.jpg\n",
            "/content/drive/MyDrive/Deep_learning/GO_extended_dataset/Cont_newPatient_250px/2408.jpg\n",
            "/content/drive/MyDrive/Deep_learning/GO_extended_dataset/Cont_newPatient_250px/2631.jpg\n",
            "/content/drive/MyDrive/Deep_learning/GO_extended_dataset/Cont_newPatient_250px/3141.JPG\n",
            "/content/drive/MyDrive/Deep_learning/GO_extended_dataset/Cont_newPatient_250px/321.jpg\n",
            "/content/drive/MyDrive/Deep_learning/GO_extended_dataset/Cont_newPatient_250px/3258.jpg\n",
            "/content/drive/MyDrive/Deep_learning/GO_extended_dataset/Cont_newPatient_250px/3261.jpg\n",
            "/content/drive/MyDrive/Deep_learning/GO_extended_dataset/Cont_newPatient_250px/3592.jpg\n",
            "/content/drive/MyDrive/Deep_learning/GO_extended_dataset/Cont_newPatient_250px/3805.jpg\n",
            "/content/drive/MyDrive/Deep_learning/GO_extended_dataset/Cont_newPatient_250px/3974.JPG\n",
            "/content/drive/MyDrive/Deep_learning/GO_extended_dataset/Cont_newPatient_250px/4121.jpg\n",
            "/content/drive/MyDrive/Deep_learning/GO_extended_dataset/Cont_newPatient_250px/4568.JPG\n",
            "/content/drive/MyDrive/Deep_learning/GO_extended_dataset/Cont_newPatient_250px/4600.jpg\n",
            "/content/drive/MyDrive/Deep_learning/GO_extended_dataset/Cont_newPatient_250px/4672.jpg\n",
            "/content/drive/MyDrive/Deep_learning/GO_extended_dataset/Cont_newPatient_250px/4697.jpg\n",
            "/content/drive/MyDrive/Deep_learning/GO_extended_dataset/Cont_newPatient_250px/4712.JPG\n",
            "/content/drive/MyDrive/Deep_learning/GO_extended_dataset/Cont_newPatient_250px/4894.jpg\n",
            "/content/drive/MyDrive/Deep_learning/GO_extended_dataset/Cont_newPatient_250px/5226.jpg\n",
            "/content/drive/MyDrive/Deep_learning/GO_extended_dataset/Cont_newPatient_250px/5369.jpg\n",
            "/content/drive/MyDrive/Deep_learning/GO_extended_dataset/Cont_newPatient_250px/5532.jpg\n",
            "/content/drive/MyDrive/Deep_learning/GO_extended_dataset/Cont_newPatient_250px/6015.jpg\n",
            "/content/drive/MyDrive/Deep_learning/GO_extended_dataset/Cont_newPatient_250px/6354.jpg\n",
            "/content/drive/MyDrive/Deep_learning/GO_extended_dataset/Cont_newPatient_250px/6523.jpg\n",
            "/content/drive/MyDrive/Deep_learning/GO_extended_dataset/Cont_newPatient_250px/6580.jpg\n",
            "/content/drive/MyDrive/Deep_learning/GO_extended_dataset/Cont_newPatient_250px/6679.JPG\n",
            "/content/drive/MyDrive/Deep_learning/GO_extended_dataset/Cont_newPatient_250px/6734.JPG\n",
            "/content/drive/MyDrive/Deep_learning/GO_extended_dataset/Cont_newPatient_250px/6768.jpg\n",
            "/content/drive/MyDrive/Deep_learning/GO_extended_dataset/Cont_newPatient_250px/685.jpg\n",
            "/content/drive/MyDrive/Deep_learning/GO_extended_dataset/Cont_newPatient_250px/7140.jpg\n",
            "/content/drive/MyDrive/Deep_learning/GO_extended_dataset/Cont_newPatient_250px/7301.JPG\n",
            "/content/drive/MyDrive/Deep_learning/GO_extended_dataset/Cont_newPatient_250px/7364.jpg\n",
            "/content/drive/MyDrive/Deep_learning/GO_extended_dataset/Cont_newPatient_250px/7544.jpg\n",
            "/content/drive/MyDrive/Deep_learning/GO_extended_dataset/Cont_newPatient_250px/7595.jpg\n",
            "/content/drive/MyDrive/Deep_learning/GO_extended_dataset/Cont_newPatient_250px/7642.JPG\n",
            "/content/drive/MyDrive/Deep_learning/GO_extended_dataset/Cont_newPatient_250px/7700.jpg\n",
            "/content/drive/MyDrive/Deep_learning/GO_extended_dataset/Cont_newPatient_250px/8015.jpg\n",
            "/content/drive/MyDrive/Deep_learning/GO_extended_dataset/Cont_newPatient_250px/8170.jpg\n",
            "/content/drive/MyDrive/Deep_learning/GO_extended_dataset/Cont_newPatient_250px/870.JPG\n",
            "/content/drive/MyDrive/Deep_learning/GO_extended_dataset/Cont_newPatient_250px/9776-20191009-1-122449_240949aef980731031a2a255bfc8ec28fe69e62e35c0d8a18b7b513c31a46c11.jpg\n",
            "Process done!!\n",
            "elapsed_time:19.61500096321106[sec]\n"
          ]
        }
      ]
    },
    {
      "cell_type": "code",
      "source": [],
      "metadata": {
        "id": "CT5RJOiiLnVe"
      },
      "execution_count": null,
      "outputs": []
    }
  ]
}